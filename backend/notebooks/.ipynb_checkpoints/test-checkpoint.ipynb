{
 "cells": [
  {
   "cell_type": "code",
   "execution_count": 1,
   "id": "initial_id",
   "metadata": {
    "collapsed": true,
    "ExecuteTime": {
     "end_time": "2024-02-16T10:29:21.384427712Z",
     "start_time": "2024-02-16T10:29:20.813684694Z"
    }
   },
   "outputs": [],
   "source": [
    "import pandas as pd\n",
    "import dask\n",
    "dask.config.set({'dataframe.query-planning': True})\n",
    "import dask.dataframe as dd"
   ]
  },
  {
   "cell_type": "code",
   "outputs": [],
   "source": [
    "df = pd.read_csv('../data/data.csv')"
   ],
   "metadata": {
    "collapsed": false,
    "ExecuteTime": {
     "end_time": "2024-02-16T10:30:13.737623752Z",
     "start_time": "2024-02-16T10:30:13.529322363Z"
    }
   },
   "id": "81979bc5e60d87ae",
   "execution_count": 6
  },
  {
   "cell_type": "code",
   "outputs": [
    {
     "data": {
      "text/plain": "  REGRGP_NOM;REG_NOM;REG_NOM_OLD;ACA_NOM;DEP_NOM;COM_CODE;COM_CODE1;COM_CODE2;COM_ID;COM_NOM_MAJ_COURT;COM_NOM_MAJ;COM_NOM;UU_CODE;UU_ID;UUCR_ID;UUCR_NOM;UU_WIKIDATA;UU_PAYSAGE;ZE_ID;DEP_CODE;DEP_ID;DEP_NOM_NUM;DEP_NUM_NOM;DEP_WIKIDATA;DEP_PAYSAGE;ACA_CODE;ACA_ID;ACA_WIKIDATA;ACA_PAYSAGE;REG_CODE;REG_ID;REG_WIKIDATA;REG_PAYSAGE;REG_CODE_OLD;REG_ID_OLD;FD_ID;FR_ID;FE_ID;UU_ID_10;UU_ID_99;AU_CODE;AU_ID;AUC_ID;AUC_NOM;EPCI_ID;EPCI_NOM;ATLAS_ID;ATLAS_NOM;ATLAS_WIKIDATA;ATLAS_PAYSAGE;geolocalisation;COM_NOM_DEBUT;COM_NOM_FIN;COM_NOM_ANCIENS;COM_NOM_ANCIENS_DATES;COM_CODE_ACTUEL;COM_CODE_ACTUEL_DEPUIS\n0  Province;Bourgogne-Franche-Comté;Franche-Comté...                                                                                                                                                                                                                                                                                                                                                                                                                                                                                                                                                                      \n1  Province;Bourgogne-Franche-Comté;Franche-Comté...                                                                                                                                                                                                                                                                                                                                                                                                                                                                                                                                                                      \n2  Province;Bourgogne-Franche-Comté;Franche-Comté...                                                                                                                                                                                                                                                                                                                                                                                                                                                                                                                                                                      \n3  Province;Bourgogne-Franche-Comté;Franche-Comté...                                                                                                                                                                                                                                                                                                                                                                                                                                                                                                                                                                      \n4  Province;Bourgogne-Franche-Comté;Franche-Comté...                                                                                                                                                                                                                                                                                                                                                                                                                                                                                                                                                                      ",
      "text/html": "<div>\n<style scoped>\n    .dataframe tbody tr th:only-of-type {\n        vertical-align: middle;\n    }\n\n    .dataframe tbody tr th {\n        vertical-align: top;\n    }\n\n    .dataframe thead th {\n        text-align: right;\n    }\n</style>\n<table border=\"1\" class=\"dataframe\">\n  <thead>\n    <tr style=\"text-align: right;\">\n      <th></th>\n      <th>REGRGP_NOM;REG_NOM;REG_NOM_OLD;ACA_NOM;DEP_NOM;COM_CODE;COM_CODE1;COM_CODE2;COM_ID;COM_NOM_MAJ_COURT;COM_NOM_MAJ;COM_NOM;UU_CODE;UU_ID;UUCR_ID;UUCR_NOM;UU_WIKIDATA;UU_PAYSAGE;ZE_ID;DEP_CODE;DEP_ID;DEP_NOM_NUM;DEP_NUM_NOM;DEP_WIKIDATA;DEP_PAYSAGE;ACA_CODE;ACA_ID;ACA_WIKIDATA;ACA_PAYSAGE;REG_CODE;REG_ID;REG_WIKIDATA;REG_PAYSAGE;REG_CODE_OLD;REG_ID_OLD;FD_ID;FR_ID;FE_ID;UU_ID_10;UU_ID_99;AU_CODE;AU_ID;AUC_ID;AUC_NOM;EPCI_ID;EPCI_NOM;ATLAS_ID;ATLAS_NOM;ATLAS_WIKIDATA;ATLAS_PAYSAGE;geolocalisation;COM_NOM_DEBUT;COM_NOM_FIN;COM_NOM_ANCIENS;COM_NOM_ANCIENS_DATES;COM_CODE_ACTUEL;COM_CODE_ACTUEL_DEPUIS</th>\n    </tr>\n  </thead>\n  <tbody>\n    <tr>\n      <th>0</th>\n      <td>Province;Bourgogne-Franche-Comté;Franche-Comté...</td>\n    </tr>\n    <tr>\n      <th>1</th>\n      <td>Province;Bourgogne-Franche-Comté;Franche-Comté...</td>\n    </tr>\n    <tr>\n      <th>2</th>\n      <td>Province;Bourgogne-Franche-Comté;Franche-Comté...</td>\n    </tr>\n    <tr>\n      <th>3</th>\n      <td>Province;Bourgogne-Franche-Comté;Franche-Comté...</td>\n    </tr>\n    <tr>\n      <th>4</th>\n      <td>Province;Bourgogne-Franche-Comté;Franche-Comté...</td>\n    </tr>\n  </tbody>\n</table>\n</div>"
     },
     "execution_count": 7,
     "metadata": {},
     "output_type": "execute_result"
    }
   ],
   "source": [
    "df.head()"
   ],
   "metadata": {
    "collapsed": false,
    "ExecuteTime": {
     "end_time": "2024-02-16T10:30:16.176944893Z",
     "start_time": "2024-02-16T10:30:16.173050678Z"
    }
   },
   "id": "ee2dcbe0f24e8a6c",
   "execution_count": 7
  },
  {
   "cell_type": "code",
   "outputs": [
    {
     "data": {
      "text/plain": "(44196, 1)"
     },
     "execution_count": 8,
     "metadata": {},
     "output_type": "execute_result"
    }
   ],
   "source": [
    "df.shape"
   ],
   "metadata": {
    "collapsed": false,
    "ExecuteTime": {
     "end_time": "2024-02-16T10:30:39.114808850Z",
     "start_time": "2024-02-16T10:30:39.069619293Z"
    }
   },
   "id": "ffca3a878e3ba70e",
   "execution_count": 8
  },
  {
   "cell_type": "code",
   "outputs": [
    {
     "data": {
      "text/plain": "REGRGP_NOM;REG_NOM;REG_NOM_OLD;ACA_NOM;DEP_NOM;COM_CODE;COM_CODE1;COM_CODE2;COM_ID;COM_NOM_MAJ_COURT;COM_NOM_MAJ;COM_NOM;UU_CODE;UU_ID;UUCR_ID;UUCR_NOM;UU_WIKIDATA;UU_PAYSAGE;ZE_ID;DEP_CODE;DEP_ID;DEP_NOM_NUM;DEP_NUM_NOM;DEP_WIKIDATA;DEP_PAYSAGE;ACA_CODE;ACA_ID;ACA_WIKIDATA;ACA_PAYSAGE;REG_CODE;REG_ID;REG_WIKIDATA;REG_PAYSAGE;REG_CODE_OLD;REG_ID_OLD;FD_ID;FR_ID;FE_ID;UU_ID_10;UU_ID_99;AU_CODE;AU_ID;AUC_ID;AUC_NOM;EPCI_ID;EPCI_NOM;ATLAS_ID;ATLAS_NOM;ATLAS_WIKIDATA;ATLAS_PAYSAGE;geolocalisation;COM_NOM_DEBUT;COM_NOM_FIN;COM_NOM_ANCIENS;COM_NOM_ANCIENS_DATES;COM_CODE_ACTUEL;COM_CODE_ACTUEL_DEPUIS    object\ndtype: object"
     },
     "execution_count": 10,
     "metadata": {},
     "output_type": "execute_result"
    }
   ],
   "source": [
    "df.dtypes"
   ],
   "metadata": {
    "collapsed": false,
    "ExecuteTime": {
     "end_time": "2024-02-16T10:31:04.281614129Z",
     "start_time": "2024-02-16T10:31:04.276490430Z"
    }
   },
   "id": "24c068c9f651ad2c",
   "execution_count": 10
  },
  {
   "cell_type": "code",
   "outputs": [],
   "source": [],
   "metadata": {
    "collapsed": false
   },
   "id": "39123500411d038e"
  }
 ],
 "metadata": {
  "kernelspec": {
   "display_name": "Python 3",
   "language": "python",
   "name": "python3"
  },
  "language_info": {
   "codemirror_mode": {
    "name": "ipython",
    "version": 2
   },
   "file_extension": ".py",
   "mimetype": "text/x-python",
   "name": "python",
   "nbconvert_exporter": "python",
   "pygments_lexer": "ipython2",
   "version": "2.7.6"
  }
 },
 "nbformat": 4,
 "nbformat_minor": 5
}
