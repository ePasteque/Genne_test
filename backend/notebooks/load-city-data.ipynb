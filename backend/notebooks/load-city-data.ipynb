{
 "cells": [
  {
   "cell_type": "code",
   "execution_count": 1,
   "id": "initial_id",
   "metadata": {
    "collapsed": true,
    "ExecuteTime": {
     "end_time": "2024-02-16T14:42:37.722746705Z",
     "start_time": "2024-02-16T14:42:37.345532949Z"
    }
   },
   "outputs": [],
   "source": [
    "import pandas as pd\n",
    "import dask\n",
    "dask.config.set({'dataframe.query-planning': True})\n",
    "import dask.dataframe as dd"
   ]
  },
  {
   "cell_type": "code",
   "outputs": [],
   "source": [
    "from  backend.settings.env import config\n",
    "from sqlalchemy import create_engine, text"
   ],
   "metadata": {
    "collapsed": false,
    "ExecuteTime": {
     "end_time": "2024-02-16T14:42:38.281327804Z",
     "start_time": "2024-02-16T14:42:38.163063465Z"
    }
   },
   "id": "e0c7a4661ba554b9",
   "execution_count": 2
  },
  {
   "cell_type": "code",
   "outputs": [
    {
     "data": {
      "text/plain": "True"
     },
     "execution_count": 3,
     "metadata": {},
     "output_type": "execute_result"
    }
   ],
   "source": [
    "DATABASE_URL = config(\"DATABASE_URL\", cast=str, default=None)\n",
    "DATABASE_URL is not None"
   ],
   "metadata": {
    "collapsed": false,
    "ExecuteTime": {
     "end_time": "2024-02-16T14:42:39.396802028Z",
     "start_time": "2024-02-16T14:42:39.392672666Z"
    }
   },
   "id": "8d5b3ed0f06cc0b9",
   "execution_count": 3
  },
  {
   "cell_type": "code",
   "outputs": [],
   "source": [
    "engine = create_engine(str(DATABASE_URL))"
   ],
   "metadata": {
    "collapsed": false,
    "ExecuteTime": {
     "end_time": "2024-02-16T14:42:40.151761066Z",
     "start_time": "2024-02-16T14:42:40.123682469Z"
    }
   },
   "id": "bad442a1f816d032",
   "execution_count": 4
  },
  {
   "cell_type": "code",
   "outputs": [
    {
     "name": "stderr",
     "output_type": "stream",
     "text": [
      "/tmp/ipykernel_58691/2298669393.py:2: DtypeWarning: Columns (25,27,29,33) have mixed types. Specify dtype option on import or set low_memory=False.\n",
      "  df = pd.read_csv(file_path)\n"
     ]
    }
   ],
   "source": [
    "file_path='../data/data.csv'\n",
    "df = pd.read_csv(file_path)"
   ],
   "metadata": {
    "collapsed": false,
    "ExecuteTime": {
     "end_time": "2024-02-16T14:42:41.236854988Z",
     "start_time": "2024-02-16T14:42:40.923582936Z"
    }
   },
   "id": "3927313ab92aced9",
   "execution_count": 5
  },
  {
   "cell_type": "code",
   "outputs": [
    {
     "data": {
      "text/plain": "   REGRGP_NOM                  REG_NOM    REG_NOM_OLD   ACA_NOM      DEP_NOM  \\\n0    Province  Bourgogne-Franche-Comté  Franche-Comté  Besançon  Haute-Saône   \n1    Province  Bourgogne-Franche-Comté  Franche-Comté  Besançon  Haute-Saône   \n2    Province  Bourgogne-Franche-Comté  Franche-Comté  Besançon  Haute-Saône   \n3    Province  Bourgogne-Franche-Comté  Franche-Comté  Besançon  Haute-Saône   \n4    Province  Bourgogne-Franche-Comté  Franche-Comté  Besançon  Haute-Saône   \n5    Province  Bourgogne-Franche-Comté  Franche-Comté  Besançon  Haute-Saône   \n6    Province  Bourgogne-Franche-Comté  Franche-Comté  Besançon  Haute-Saône   \n7    Province  Bourgogne-Franche-Comté  Franche-Comté  Besançon  Haute-Saône   \n8    Province  Bourgogne-Franche-Comté  Franche-Comté  Besançon  Haute-Saône   \n9    Province  Bourgogne-Franche-Comté  Franche-Comté  Besançon  Haute-Saône   \n10   Province  Bourgogne-Franche-Comté  Franche-Comté  Besançon  Haute-Saône   \n11   Province  Bourgogne-Franche-Comté  Franche-Comté  Besançon  Haute-Saône   \n12   Province  Bourgogne-Franche-Comté  Franche-Comté  Besançon  Haute-Saône   \n13   Province  Bourgogne-Franche-Comté  Franche-Comté  Besançon  Haute-Saône   \n14   Province  Bourgogne-Franche-Comté  Franche-Comté  Besançon  Haute-Saône   \n15   Province  Bourgogne-Franche-Comté  Franche-Comté  Besançon  Haute-Saône   \n16   Province  Bourgogne-Franche-Comté  Franche-Comté  Besançon  Haute-Saône   \n17   Province  Bourgogne-Franche-Comté  Franche-Comté  Besançon  Haute-Saône   \n18   Province  Bourgogne-Franche-Comté  Franche-Comté  Besançon  Haute-Saône   \n19   Province  Bourgogne-Franche-Comté  Franche-Comté  Besançon  Haute-Saône   \n\n   COM_CODE COM_CODE1 COM_CODE2  COM_ID   COM_NOM_MAJ_COURT  ...  \\\n0     70090     70090     70090  C70090          BOURSIERES  ...   \n1     70105     70105     70105  C70105    BUCEY LES TRAVES  ...   \n2     70106     70106     70106  C70106       BUFFIGNECOURT  ...   \n3     70113     70113     70113  C70113              CENANS  ...   \n4     70117     70117     70117  C70117       CHALONVILLARS  ...   \n5     70131     70131     70131  C70131         CHARENTENAY  ...   \n6     70134     70134     70134  C70134             CHARIEZ  ...   \n7     70135     70135     70135  C70135  CHARMES ST VALBERT  ...   \n8     70139     70139     70139  C70139     CHATEAU LAMBERT  ...   \n9     70144     70144     70144  C70144  CHAUVIREY LE VIEIL  ...   \n10    70147     70147     70147  C70147            CHAVANNE  ...   \n11    70149     70149     70149  C70149           CHENEBIER  ...   \n12    70151     70151     70151  C70151           CHEVIGNEY  ...   \n13    70155     70155     70155  C70155              CITERS  ...   \n14    70156     70156     70156  C70156               CITEY  ...   \n15    70159     70159     70159  C70159           COGNIERES  ...   \n16    70165     70165     70165  C70165     COMBEAUFONTAINE  ...   \n17    70167     70167     70167  C70167          CONFLANDEY  ...   \n18    70169     70169     70169  C70169         CONFRACOURT  ...   \n19    70170     70170     70170  C70170         CONTREGLISE  ...   \n\n                ATLAS_NOM ATLAS_WIKIDATA ATLAS_PAYSAGE  \\\n0              Boursières            NaN           NaN   \n1        Bucey-lès-Traves            NaN           NaN   \n2           Buffignécourt            NaN           NaN   \n3                  Cenans            NaN           NaN   \n4                 Belfort            NaN         ag19v   \n5             Charentenay            NaN           NaN   \n6                 Chariez            NaN           NaN   \n7   Charmes-Saint-Valbert            NaN           NaN   \n8         Château-Lambert            NaN           NaN   \n9      Chauvirey-le-Vieil            NaN           NaN   \n10               Chavanne            NaN           NaN   \n11              Chenebier            NaN           NaN   \n12              Chevigney            NaN           NaN   \n13                 Citers            NaN           NaN   \n14                  Citey            NaN           NaN   \n15              Cognières            NaN           NaN   \n16        Combeaufontaine            NaN           NaN   \n17             Conflandey            NaN           NaN   \n18            Confracourt            NaN           NaN   \n19            Contréglise            NaN           NaN   \n\n              geolocalisation COM_NOM_DEBUT COM_NOM_FIN  \\\n0   47.615013103, 6.037836803           NaN         NaN   \n1   47.629000425, 5.985043879           NaN         NaN   \n2    47.81240021, 6.022945754           NaN         NaN   \n3   47.432953986, 6.188186794           NaN         NaN   \n4   47.637914593, 6.776434741    05.02.3870         NaN   \n5                         NaN           NaN  16.10.2269   \n6   47.619731714, 6.078495531           NaN         NaN   \n7    47.731276253, 5.70834254           NaN         NaN   \n8                         NaN           NaN  16.10.2269   \n9   47.781148401, 5.757984349           NaN         NaN   \n10   47.55892868, 6.658086498           NaN         NaN   \n11  47.644505254, 6.707638715           NaN         NaN   \n12  47.330174038, 5.587997386           NaN         NaN   \n13  47.754961981, 6.419320273           NaN         NaN   \n14  47.439493377, 5.789312326           NaN         NaN   \n15  47.498295882, 6.286617248           NaN         NaN   \n16  47.709694673, 5.897130473           NaN         NaN   \n17  47.731731605, 6.034549512           NaN         NaN   \n18  47.673754749, 5.888041791           NaN         NaN   \n19  47.840469836, 6.029269787           NaN         NaN   \n\n                               COM_NOM_ANCIENS  \\\n0                                          NaN   \n1                                          NaN   \n2                                          NaN   \n3                                          NaN   \n4   Châlonvillars-Mandrevillars, Châlonvillars   \n5                                          NaN   \n6                                          NaN   \n7                                          NaN   \n8                                          NaN   \n9                                          NaN   \n10                                         NaN   \n11                                         NaN   \n12                                         NaN   \n13                                         NaN   \n14                                         NaN   \n15                                         NaN   \n16                                         NaN   \n17                                         NaN   \n18                                         NaN   \n19                                         NaN   \n\n                                COM_NOM_ANCIENS_DATES COM_CODE_ACTUEL  \\\n0                                                 NaN             NaN   \n1                                                 NaN             NaN   \n2                                                 NaN             NaN   \n3                                                 NaN             NaN   \n4   Châlonvillars-Mandrevillars (1972-12-31->1989-...             NaN   \n5                                                 NaN         70492.0   \n6                                                 NaN             NaN   \n7                                                 NaN             NaN   \n8                                                 NaN         70283.0   \n9                                                 NaN             NaN   \n10                                                NaN             NaN   \n11                                                NaN             NaN   \n12                                                NaN             NaN   \n13                                                NaN             NaN   \n14                                                NaN             NaN   \n15                                                NaN             NaN   \n16                                                NaN             NaN   \n17                                                NaN             NaN   \n18                                                NaN             NaN   \n19                                                NaN             NaN   \n\n   COM_CODE_ACTUEL_DEPUIS  \n0                     NaN  \n1                     NaN  \n2                     NaN  \n3                     NaN  \n4                     NaN  \n5              16.10.2269  \n6                     NaN  \n7                     NaN  \n8              16.10.2269  \n9                     NaN  \n10                    NaN  \n11                    NaN  \n12                    NaN  \n13                    NaN  \n14                    NaN  \n15                    NaN  \n16                    NaN  \n17                    NaN  \n18                    NaN  \n19                    NaN  \n\n[20 rows x 57 columns]",
      "text/html": "<div>\n<style scoped>\n    .dataframe tbody tr th:only-of-type {\n        vertical-align: middle;\n    }\n\n    .dataframe tbody tr th {\n        vertical-align: top;\n    }\n\n    .dataframe thead th {\n        text-align: right;\n    }\n</style>\n<table border=\"1\" class=\"dataframe\">\n  <thead>\n    <tr style=\"text-align: right;\">\n      <th></th>\n      <th>REGRGP_NOM</th>\n      <th>REG_NOM</th>\n      <th>REG_NOM_OLD</th>\n      <th>ACA_NOM</th>\n      <th>DEP_NOM</th>\n      <th>COM_CODE</th>\n      <th>COM_CODE1</th>\n      <th>COM_CODE2</th>\n      <th>COM_ID</th>\n      <th>COM_NOM_MAJ_COURT</th>\n      <th>...</th>\n      <th>ATLAS_NOM</th>\n      <th>ATLAS_WIKIDATA</th>\n      <th>ATLAS_PAYSAGE</th>\n      <th>geolocalisation</th>\n      <th>COM_NOM_DEBUT</th>\n      <th>COM_NOM_FIN</th>\n      <th>COM_NOM_ANCIENS</th>\n      <th>COM_NOM_ANCIENS_DATES</th>\n      <th>COM_CODE_ACTUEL</th>\n      <th>COM_CODE_ACTUEL_DEPUIS</th>\n    </tr>\n  </thead>\n  <tbody>\n    <tr>\n      <th>0</th>\n      <td>Province</td>\n      <td>Bourgogne-Franche-Comté</td>\n      <td>Franche-Comté</td>\n      <td>Besançon</td>\n      <td>Haute-Saône</td>\n      <td>70090</td>\n      <td>70090</td>\n      <td>70090</td>\n      <td>C70090</td>\n      <td>BOURSIERES</td>\n      <td>...</td>\n      <td>Boursières</td>\n      <td>NaN</td>\n      <td>NaN</td>\n      <td>47.615013103, 6.037836803</td>\n      <td>NaN</td>\n      <td>NaN</td>\n      <td>NaN</td>\n      <td>NaN</td>\n      <td>NaN</td>\n      <td>NaN</td>\n    </tr>\n    <tr>\n      <th>1</th>\n      <td>Province</td>\n      <td>Bourgogne-Franche-Comté</td>\n      <td>Franche-Comté</td>\n      <td>Besançon</td>\n      <td>Haute-Saône</td>\n      <td>70105</td>\n      <td>70105</td>\n      <td>70105</td>\n      <td>C70105</td>\n      <td>BUCEY LES TRAVES</td>\n      <td>...</td>\n      <td>Bucey-lès-Traves</td>\n      <td>NaN</td>\n      <td>NaN</td>\n      <td>47.629000425, 5.985043879</td>\n      <td>NaN</td>\n      <td>NaN</td>\n      <td>NaN</td>\n      <td>NaN</td>\n      <td>NaN</td>\n      <td>NaN</td>\n    </tr>\n    <tr>\n      <th>2</th>\n      <td>Province</td>\n      <td>Bourgogne-Franche-Comté</td>\n      <td>Franche-Comté</td>\n      <td>Besançon</td>\n      <td>Haute-Saône</td>\n      <td>70106</td>\n      <td>70106</td>\n      <td>70106</td>\n      <td>C70106</td>\n      <td>BUFFIGNECOURT</td>\n      <td>...</td>\n      <td>Buffignécourt</td>\n      <td>NaN</td>\n      <td>NaN</td>\n      <td>47.81240021, 6.022945754</td>\n      <td>NaN</td>\n      <td>NaN</td>\n      <td>NaN</td>\n      <td>NaN</td>\n      <td>NaN</td>\n      <td>NaN</td>\n    </tr>\n    <tr>\n      <th>3</th>\n      <td>Province</td>\n      <td>Bourgogne-Franche-Comté</td>\n      <td>Franche-Comté</td>\n      <td>Besançon</td>\n      <td>Haute-Saône</td>\n      <td>70113</td>\n      <td>70113</td>\n      <td>70113</td>\n      <td>C70113</td>\n      <td>CENANS</td>\n      <td>...</td>\n      <td>Cenans</td>\n      <td>NaN</td>\n      <td>NaN</td>\n      <td>47.432953986, 6.188186794</td>\n      <td>NaN</td>\n      <td>NaN</td>\n      <td>NaN</td>\n      <td>NaN</td>\n      <td>NaN</td>\n      <td>NaN</td>\n    </tr>\n    <tr>\n      <th>4</th>\n      <td>Province</td>\n      <td>Bourgogne-Franche-Comté</td>\n      <td>Franche-Comté</td>\n      <td>Besançon</td>\n      <td>Haute-Saône</td>\n      <td>70117</td>\n      <td>70117</td>\n      <td>70117</td>\n      <td>C70117</td>\n      <td>CHALONVILLARS</td>\n      <td>...</td>\n      <td>Belfort</td>\n      <td>NaN</td>\n      <td>ag19v</td>\n      <td>47.637914593, 6.776434741</td>\n      <td>05.02.3870</td>\n      <td>NaN</td>\n      <td>Châlonvillars-Mandrevillars, Châlonvillars</td>\n      <td>Châlonvillars-Mandrevillars (1972-12-31-&gt;1989-...</td>\n      <td>NaN</td>\n      <td>NaN</td>\n    </tr>\n    <tr>\n      <th>5</th>\n      <td>Province</td>\n      <td>Bourgogne-Franche-Comté</td>\n      <td>Franche-Comté</td>\n      <td>Besançon</td>\n      <td>Haute-Saône</td>\n      <td>70131</td>\n      <td>70131</td>\n      <td>70131</td>\n      <td>C70131</td>\n      <td>CHARENTENAY</td>\n      <td>...</td>\n      <td>Charentenay</td>\n      <td>NaN</td>\n      <td>NaN</td>\n      <td>NaN</td>\n      <td>NaN</td>\n      <td>16.10.2269</td>\n      <td>NaN</td>\n      <td>NaN</td>\n      <td>70492.0</td>\n      <td>16.10.2269</td>\n    </tr>\n    <tr>\n      <th>6</th>\n      <td>Province</td>\n      <td>Bourgogne-Franche-Comté</td>\n      <td>Franche-Comté</td>\n      <td>Besançon</td>\n      <td>Haute-Saône</td>\n      <td>70134</td>\n      <td>70134</td>\n      <td>70134</td>\n      <td>C70134</td>\n      <td>CHARIEZ</td>\n      <td>...</td>\n      <td>Chariez</td>\n      <td>NaN</td>\n      <td>NaN</td>\n      <td>47.619731714, 6.078495531</td>\n      <td>NaN</td>\n      <td>NaN</td>\n      <td>NaN</td>\n      <td>NaN</td>\n      <td>NaN</td>\n      <td>NaN</td>\n    </tr>\n    <tr>\n      <th>7</th>\n      <td>Province</td>\n      <td>Bourgogne-Franche-Comté</td>\n      <td>Franche-Comté</td>\n      <td>Besançon</td>\n      <td>Haute-Saône</td>\n      <td>70135</td>\n      <td>70135</td>\n      <td>70135</td>\n      <td>C70135</td>\n      <td>CHARMES ST VALBERT</td>\n      <td>...</td>\n      <td>Charmes-Saint-Valbert</td>\n      <td>NaN</td>\n      <td>NaN</td>\n      <td>47.731276253, 5.70834254</td>\n      <td>NaN</td>\n      <td>NaN</td>\n      <td>NaN</td>\n      <td>NaN</td>\n      <td>NaN</td>\n      <td>NaN</td>\n    </tr>\n    <tr>\n      <th>8</th>\n      <td>Province</td>\n      <td>Bourgogne-Franche-Comté</td>\n      <td>Franche-Comté</td>\n      <td>Besançon</td>\n      <td>Haute-Saône</td>\n      <td>70139</td>\n      <td>70139</td>\n      <td>70139</td>\n      <td>C70139</td>\n      <td>CHATEAU LAMBERT</td>\n      <td>...</td>\n      <td>Château-Lambert</td>\n      <td>NaN</td>\n      <td>NaN</td>\n      <td>NaN</td>\n      <td>NaN</td>\n      <td>16.10.2269</td>\n      <td>NaN</td>\n      <td>NaN</td>\n      <td>70283.0</td>\n      <td>16.10.2269</td>\n    </tr>\n    <tr>\n      <th>9</th>\n      <td>Province</td>\n      <td>Bourgogne-Franche-Comté</td>\n      <td>Franche-Comté</td>\n      <td>Besançon</td>\n      <td>Haute-Saône</td>\n      <td>70144</td>\n      <td>70144</td>\n      <td>70144</td>\n      <td>C70144</td>\n      <td>CHAUVIREY LE VIEIL</td>\n      <td>...</td>\n      <td>Chauvirey-le-Vieil</td>\n      <td>NaN</td>\n      <td>NaN</td>\n      <td>47.781148401, 5.757984349</td>\n      <td>NaN</td>\n      <td>NaN</td>\n      <td>NaN</td>\n      <td>NaN</td>\n      <td>NaN</td>\n      <td>NaN</td>\n    </tr>\n    <tr>\n      <th>10</th>\n      <td>Province</td>\n      <td>Bourgogne-Franche-Comté</td>\n      <td>Franche-Comté</td>\n      <td>Besançon</td>\n      <td>Haute-Saône</td>\n      <td>70147</td>\n      <td>70147</td>\n      <td>70147</td>\n      <td>C70147</td>\n      <td>CHAVANNE</td>\n      <td>...</td>\n      <td>Chavanne</td>\n      <td>NaN</td>\n      <td>NaN</td>\n      <td>47.55892868, 6.658086498</td>\n      <td>NaN</td>\n      <td>NaN</td>\n      <td>NaN</td>\n      <td>NaN</td>\n      <td>NaN</td>\n      <td>NaN</td>\n    </tr>\n    <tr>\n      <th>11</th>\n      <td>Province</td>\n      <td>Bourgogne-Franche-Comté</td>\n      <td>Franche-Comté</td>\n      <td>Besançon</td>\n      <td>Haute-Saône</td>\n      <td>70149</td>\n      <td>70149</td>\n      <td>70149</td>\n      <td>C70149</td>\n      <td>CHENEBIER</td>\n      <td>...</td>\n      <td>Chenebier</td>\n      <td>NaN</td>\n      <td>NaN</td>\n      <td>47.644505254, 6.707638715</td>\n      <td>NaN</td>\n      <td>NaN</td>\n      <td>NaN</td>\n      <td>NaN</td>\n      <td>NaN</td>\n      <td>NaN</td>\n    </tr>\n    <tr>\n      <th>12</th>\n      <td>Province</td>\n      <td>Bourgogne-Franche-Comté</td>\n      <td>Franche-Comté</td>\n      <td>Besançon</td>\n      <td>Haute-Saône</td>\n      <td>70151</td>\n      <td>70151</td>\n      <td>70151</td>\n      <td>C70151</td>\n      <td>CHEVIGNEY</td>\n      <td>...</td>\n      <td>Chevigney</td>\n      <td>NaN</td>\n      <td>NaN</td>\n      <td>47.330174038, 5.587997386</td>\n      <td>NaN</td>\n      <td>NaN</td>\n      <td>NaN</td>\n      <td>NaN</td>\n      <td>NaN</td>\n      <td>NaN</td>\n    </tr>\n    <tr>\n      <th>13</th>\n      <td>Province</td>\n      <td>Bourgogne-Franche-Comté</td>\n      <td>Franche-Comté</td>\n      <td>Besançon</td>\n      <td>Haute-Saône</td>\n      <td>70155</td>\n      <td>70155</td>\n      <td>70155</td>\n      <td>C70155</td>\n      <td>CITERS</td>\n      <td>...</td>\n      <td>Citers</td>\n      <td>NaN</td>\n      <td>NaN</td>\n      <td>47.754961981, 6.419320273</td>\n      <td>NaN</td>\n      <td>NaN</td>\n      <td>NaN</td>\n      <td>NaN</td>\n      <td>NaN</td>\n      <td>NaN</td>\n    </tr>\n    <tr>\n      <th>14</th>\n      <td>Province</td>\n      <td>Bourgogne-Franche-Comté</td>\n      <td>Franche-Comté</td>\n      <td>Besançon</td>\n      <td>Haute-Saône</td>\n      <td>70156</td>\n      <td>70156</td>\n      <td>70156</td>\n      <td>C70156</td>\n      <td>CITEY</td>\n      <td>...</td>\n      <td>Citey</td>\n      <td>NaN</td>\n      <td>NaN</td>\n      <td>47.439493377, 5.789312326</td>\n      <td>NaN</td>\n      <td>NaN</td>\n      <td>NaN</td>\n      <td>NaN</td>\n      <td>NaN</td>\n      <td>NaN</td>\n    </tr>\n    <tr>\n      <th>15</th>\n      <td>Province</td>\n      <td>Bourgogne-Franche-Comté</td>\n      <td>Franche-Comté</td>\n      <td>Besançon</td>\n      <td>Haute-Saône</td>\n      <td>70159</td>\n      <td>70159</td>\n      <td>70159</td>\n      <td>C70159</td>\n      <td>COGNIERES</td>\n      <td>...</td>\n      <td>Cognières</td>\n      <td>NaN</td>\n      <td>NaN</td>\n      <td>47.498295882, 6.286617248</td>\n      <td>NaN</td>\n      <td>NaN</td>\n      <td>NaN</td>\n      <td>NaN</td>\n      <td>NaN</td>\n      <td>NaN</td>\n    </tr>\n    <tr>\n      <th>16</th>\n      <td>Province</td>\n      <td>Bourgogne-Franche-Comté</td>\n      <td>Franche-Comté</td>\n      <td>Besançon</td>\n      <td>Haute-Saône</td>\n      <td>70165</td>\n      <td>70165</td>\n      <td>70165</td>\n      <td>C70165</td>\n      <td>COMBEAUFONTAINE</td>\n      <td>...</td>\n      <td>Combeaufontaine</td>\n      <td>NaN</td>\n      <td>NaN</td>\n      <td>47.709694673, 5.897130473</td>\n      <td>NaN</td>\n      <td>NaN</td>\n      <td>NaN</td>\n      <td>NaN</td>\n      <td>NaN</td>\n      <td>NaN</td>\n    </tr>\n    <tr>\n      <th>17</th>\n      <td>Province</td>\n      <td>Bourgogne-Franche-Comté</td>\n      <td>Franche-Comté</td>\n      <td>Besançon</td>\n      <td>Haute-Saône</td>\n      <td>70167</td>\n      <td>70167</td>\n      <td>70167</td>\n      <td>C70167</td>\n      <td>CONFLANDEY</td>\n      <td>...</td>\n      <td>Conflandey</td>\n      <td>NaN</td>\n      <td>NaN</td>\n      <td>47.731731605, 6.034549512</td>\n      <td>NaN</td>\n      <td>NaN</td>\n      <td>NaN</td>\n      <td>NaN</td>\n      <td>NaN</td>\n      <td>NaN</td>\n    </tr>\n    <tr>\n      <th>18</th>\n      <td>Province</td>\n      <td>Bourgogne-Franche-Comté</td>\n      <td>Franche-Comté</td>\n      <td>Besançon</td>\n      <td>Haute-Saône</td>\n      <td>70169</td>\n      <td>70169</td>\n      <td>70169</td>\n      <td>C70169</td>\n      <td>CONFRACOURT</td>\n      <td>...</td>\n      <td>Confracourt</td>\n      <td>NaN</td>\n      <td>NaN</td>\n      <td>47.673754749, 5.888041791</td>\n      <td>NaN</td>\n      <td>NaN</td>\n      <td>NaN</td>\n      <td>NaN</td>\n      <td>NaN</td>\n      <td>NaN</td>\n    </tr>\n    <tr>\n      <th>19</th>\n      <td>Province</td>\n      <td>Bourgogne-Franche-Comté</td>\n      <td>Franche-Comté</td>\n      <td>Besançon</td>\n      <td>Haute-Saône</td>\n      <td>70170</td>\n      <td>70170</td>\n      <td>70170</td>\n      <td>C70170</td>\n      <td>CONTREGLISE</td>\n      <td>...</td>\n      <td>Contréglise</td>\n      <td>NaN</td>\n      <td>NaN</td>\n      <td>47.840469836, 6.029269787</td>\n      <td>NaN</td>\n      <td>NaN</td>\n      <td>NaN</td>\n      <td>NaN</td>\n      <td>NaN</td>\n      <td>NaN</td>\n    </tr>\n  </tbody>\n</table>\n<p>20 rows × 57 columns</p>\n</div>"
     },
     "execution_count": 6,
     "metadata": {},
     "output_type": "execute_result"
    }
   ],
   "source": [
    "df.head(20)"
   ],
   "metadata": {
    "collapsed": false,
    "ExecuteTime": {
     "end_time": "2024-02-16T14:42:41.796220727Z",
     "start_time": "2024-02-16T14:42:41.782057289Z"
    }
   },
   "id": "e3fcb06e352341cb",
   "execution_count": 6
  },
  {
   "cell_type": "code",
   "outputs": [
    {
     "data": {
      "text/plain": "(38915, 57)"
     },
     "execution_count": 7,
     "metadata": {},
     "output_type": "execute_result"
    }
   ],
   "source": [
    "df.shape"
   ],
   "metadata": {
    "collapsed": false,
    "ExecuteTime": {
     "end_time": "2024-02-16T14:42:44.458764243Z",
     "start_time": "2024-02-16T14:42:44.456069017Z"
    }
   },
   "id": "c0d086661f759e03",
   "execution_count": 7
  },
  {
   "cell_type": "code",
   "outputs": [
    {
     "data": {
      "text/plain": "       DEP_NOM                COM_NOM COM_CODE DEP_CODE\n0  Haute-Saône             Boursières    70090       70\n1  Haute-Saône       Bucey-lès-Traves    70105       70\n2  Haute-Saône          Buffignécourt    70106       70\n3  Haute-Saône                 Cenans    70113       70\n4  Haute-Saône          Châlonvillars    70117       70\n5  Haute-Saône            Charentenay    70131       70\n6  Haute-Saône                Chariez    70134       70\n7  Haute-Saône  Charmes-Saint-Valbert    70135       70\n8  Haute-Saône        Château-Lambert    70139       70\n9  Haute-Saône     Chauvirey-le-Vieil    70144       70",
      "text/html": "<div>\n<style scoped>\n    .dataframe tbody tr th:only-of-type {\n        vertical-align: middle;\n    }\n\n    .dataframe tbody tr th {\n        vertical-align: top;\n    }\n\n    .dataframe thead th {\n        text-align: right;\n    }\n</style>\n<table border=\"1\" class=\"dataframe\">\n  <thead>\n    <tr style=\"text-align: right;\">\n      <th></th>\n      <th>DEP_NOM</th>\n      <th>COM_NOM</th>\n      <th>COM_CODE</th>\n      <th>DEP_CODE</th>\n    </tr>\n  </thead>\n  <tbody>\n    <tr>\n      <th>0</th>\n      <td>Haute-Saône</td>\n      <td>Boursières</td>\n      <td>70090</td>\n      <td>70</td>\n    </tr>\n    <tr>\n      <th>1</th>\n      <td>Haute-Saône</td>\n      <td>Bucey-lès-Traves</td>\n      <td>70105</td>\n      <td>70</td>\n    </tr>\n    <tr>\n      <th>2</th>\n      <td>Haute-Saône</td>\n      <td>Buffignécourt</td>\n      <td>70106</td>\n      <td>70</td>\n    </tr>\n    <tr>\n      <th>3</th>\n      <td>Haute-Saône</td>\n      <td>Cenans</td>\n      <td>70113</td>\n      <td>70</td>\n    </tr>\n    <tr>\n      <th>4</th>\n      <td>Haute-Saône</td>\n      <td>Châlonvillars</td>\n      <td>70117</td>\n      <td>70</td>\n    </tr>\n    <tr>\n      <th>5</th>\n      <td>Haute-Saône</td>\n      <td>Charentenay</td>\n      <td>70131</td>\n      <td>70</td>\n    </tr>\n    <tr>\n      <th>6</th>\n      <td>Haute-Saône</td>\n      <td>Chariez</td>\n      <td>70134</td>\n      <td>70</td>\n    </tr>\n    <tr>\n      <th>7</th>\n      <td>Haute-Saône</td>\n      <td>Charmes-Saint-Valbert</td>\n      <td>70135</td>\n      <td>70</td>\n    </tr>\n    <tr>\n      <th>8</th>\n      <td>Haute-Saône</td>\n      <td>Château-Lambert</td>\n      <td>70139</td>\n      <td>70</td>\n    </tr>\n    <tr>\n      <th>9</th>\n      <td>Haute-Saône</td>\n      <td>Chauvirey-le-Vieil</td>\n      <td>70144</td>\n      <td>70</td>\n    </tr>\n  </tbody>\n</table>\n</div>"
     },
     "execution_count": 8,
     "metadata": {},
     "output_type": "execute_result"
    }
   ],
   "source": [
    "# DEP_NOM\n",
    "# DEP_CODE\n",
    "# COM_NOM\n",
    "# COM_CODE town id\n",
    "\n",
    "group_by_columns = [\"DEP_NOM\", \"COM_NOM\", \"COM_CODE\"]\n",
    "target_columns = [\"DEP_CODE\"]\n",
    "desired_columns = group_by_columns + target_columns\n",
    "\n",
    "sub_df = df[desired_columns]\n",
    "sub_df.head(10)"
   ],
   "metadata": {
    "collapsed": false,
    "ExecuteTime": {
     "end_time": "2024-02-16T14:42:45.458888266Z",
     "start_time": "2024-02-16T14:42:45.456857103Z"
    }
   },
   "id": "6e3e01e396f62531",
   "execution_count": 8
  },
  {
   "cell_type": "code",
   "outputs": [
    {
     "name": "stdout",
     "output_type": "stream",
     "text": [
      "(38915, 4)\n"
     ]
    },
    {
     "data": {
      "text/plain": "DEP_NOM     object\nCOM_NOM     object\nCOM_CODE    object\nDEP_CODE    object\ndtype: object"
     },
     "execution_count": 9,
     "metadata": {},
     "output_type": "execute_result"
    }
   ],
   "source": [
    "final_df = sub_df.copy()\n",
    "print(final_df.shape)\n",
    "final_df.dtypes"
   ],
   "metadata": {
    "collapsed": false,
    "ExecuteTime": {
     "end_time": "2024-02-16T14:42:47.767564582Z",
     "start_time": "2024-02-16T14:42:47.760135272Z"
    }
   },
   "id": "91ac48e07803222a",
   "execution_count": 9
  },
  {
   "cell_type": "code",
   "outputs": [
    {
     "data": {
      "text/plain": "915"
     },
     "execution_count": 10,
     "metadata": {},
     "output_type": "execute_result"
    }
   ],
   "source": [
    "# load the data sets into the database\n",
    "table_name = \"cities_data\"\n",
    "final_df.to_sql(table_name, engine, if_exists=\"replace\", index=True)"
   ],
   "metadata": {
    "collapsed": false,
    "ExecuteTime": {
     "end_time": "2024-02-16T14:42:50.345892715Z",
     "start_time": "2024-02-16T14:42:49.522140125Z"
    }
   },
   "id": "41430cf0e9ca8d3d",
   "execution_count": 10
  },
  {
   "cell_type": "code",
   "outputs": [
    {
     "name": "stdout",
     "output_type": "stream",
     "text": [
      "[(0, 'Haute-Saône', 'Boursières', '70090', '70'), (1, 'Haute-Saône', 'Bucey-lès-Traves', '70105', '70'), (2, 'Haute-Saône', 'Buffignécourt', '70106', '70'), (3, 'Haute-Saône', 'Cenans', '70113', '70'), (4, 'Haute-Saône', 'Châlonvillars', '70117', '70'), (5, 'Haute-Saône', 'Charentenay', '70131', '70'), (6, 'Haute-Saône', 'Chariez', '70134', '70'), (7, 'Haute-Saône', 'Charmes-Saint-Valbert', '70135', '70'), (8, 'Haute-Saône', 'Château-Lambert', '70139', '70'), (9, 'Haute-Saône', 'Chauvirey-le-Vieil', '70144', '70')]\n"
     ]
    }
   ],
   "source": [
    "with engine.connect() as conn:\n",
    "    result = conn.execute(text(f\"SELECT * FROM {table_name} LIMIT 10\"))\n",
    "    print(result.all())"
   ],
   "metadata": {
    "collapsed": false,
    "ExecuteTime": {
     "end_time": "2024-02-16T14:44:26.289868091Z",
     "start_time": "2024-02-16T14:44:26.247214038Z"
    }
   },
   "id": "e3fd1d93d1954433",
   "execution_count": 11
  },
  {
   "cell_type": "code",
   "outputs": [],
   "source": [],
   "metadata": {
    "collapsed": false
   },
   "id": "5fa296bf07c3ab65"
  }
 ],
 "metadata": {
  "kernelspec": {
   "display_name": "Python 3",
   "language": "python",
   "name": "python3"
  },
  "language_info": {
   "codemirror_mode": {
    "name": "ipython",
    "version": 2
   },
   "file_extension": ".py",
   "mimetype": "text/x-python",
   "name": "python",
   "nbconvert_exporter": "python",
   "pygments_lexer": "ipython2",
   "version": "2.7.6"
  }
 },
 "nbformat": 4,
 "nbformat_minor": 5
}
