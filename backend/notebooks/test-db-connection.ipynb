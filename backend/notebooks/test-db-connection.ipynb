{
 "cells": [
  {
   "cell_type": "code",
   "execution_count": 1,
   "id": "initial_id",
   "metadata": {
    "collapsed": true,
    "ExecuteTime": {
     "end_time": "2024-02-16T15:22:55.434951609Z",
     "start_time": "2024-02-16T15:22:55.365521906Z"
    }
   },
   "outputs": [],
   "source": [
    "from  backend.settings.env import config\n",
    "from sqlalchemy import create_engine, Column, BigInteger, String, Boolean, Date\n",
    "from sqlalchemy.orm import sessionmaker, DeclarativeBase"
   ]
  },
  {
   "cell_type": "code",
   "outputs": [
    {
     "data": {
      "text/plain": "True"
     },
     "execution_count": 2,
     "metadata": {},
     "output_type": "execute_result"
    }
   ],
   "source": [
    "DATABASE_URL = config(\"DATABASE_URL\", cast=str, default=None)\n",
    "DATABASE_URL is not None"
   ],
   "metadata": {
    "collapsed": false,
    "ExecuteTime": {
     "end_time": "2024-02-16T15:22:55.847777475Z",
     "start_time": "2024-02-16T15:22:55.846043663Z"
    }
   },
   "id": "b22004b0a53ffe0",
   "execution_count": 2
  },
  {
   "cell_type": "code",
   "outputs": [],
   "source": [
    "engine = create_engine(DATABASE_URL)"
   ],
   "metadata": {
    "collapsed": false,
    "ExecuteTime": {
     "end_time": "2024-02-16T15:22:56.455261807Z",
     "start_time": "2024-02-16T15:22:56.393860314Z"
    }
   },
   "id": "c6c13c9710bac6df",
   "execution_count": 3
  },
  {
   "cell_type": "code",
   "outputs": [],
   "source": [
    "class Base(DeclarativeBase):\n",
    "    pass"
   ],
   "metadata": {
    "collapsed": false,
    "ExecuteTime": {
     "end_time": "2024-02-16T15:22:56.940032081Z",
     "start_time": "2024-02-16T15:22:56.937833612Z"
    }
   },
   "id": "46c2eb0efc4d70ab",
   "execution_count": 4
  },
  {
   "cell_type": "code",
   "outputs": [
    {
     "name": "stderr",
     "output_type": "stream",
     "text": [
      "/tmp/ipykernel_62465/1838243184.py:1: SAWarning: This declarative base already contains a class with the same class name and module name as __main__.CityMap, and will be replaced in the string-lookup table.\n",
      "  class CityMap(Base):\n"
     ]
    }
   ],
   "source": [
    "class CityMap(Base):\n",
    "    __tablename__ = \"cities_data\"\n",
    "    __table_args__ = {\"extend_existing\": True}\n",
    "    \n",
    "    id = Column(\"index\", BigInteger, primary_key=True)\n",
    "    dep_name = Column(\"DEP_NOM\", String)\n",
    "    dep_code = Column(\"DEP_CODE\", BigInteger)\n",
    "    com_name = Column(\"COM_NOM\", String)\n",
    "    com_code = Column(\"COM_CODE\", BigInteger)"
   ],
   "metadata": {
    "collapsed": false,
    "ExecuteTime": {
     "end_time": "2024-02-16T15:24:27.774090033Z",
     "start_time": "2024-02-16T15:24:27.726925096Z"
    }
   },
   "id": "11210ceed34f93ab",
   "execution_count": 7
  },
  {
   "cell_type": "code",
   "outputs": [
    {
     "name": "stdout",
     "output_type": "stream",
     "text": [
      "Haute-Saône 70 Boursières 70090\n",
      "Haute-Saône 70 Bucey-lès-Traves 70105\n",
      "Haute-Saône 70 Buffignécourt 70106\n",
      "Haute-Saône 70 Cenans 70113\n",
      "Haute-Saône 70 Châlonvillars 70117\n",
      "Haute-Saône 70 Charentenay 70131\n",
      "Haute-Saône 70 Chariez 70134\n",
      "Haute-Saône 70 Charmes-Saint-Valbert 70135\n",
      "Haute-Saône 70 Château-Lambert 70139\n",
      "Haute-Saône 70 Chauvirey-le-Vieil 70144\n",
      "Haute-Saône 70 Chavanne 70147\n",
      "Haute-Saône 70 Chenebier 70149\n",
      "Haute-Saône 70 Chevigney 70151\n",
      "Haute-Saône 70 Citers 70155\n",
      "Haute-Saône 70 Citey 70156\n",
      "Haute-Saône 70 Cognières 70159\n",
      "Haute-Saône 70 Combeaufontaine 70165\n",
      "Haute-Saône 70 Conflandey 70167\n",
      "Haute-Saône 70 Confracourt 70169\n",
      "Haute-Saône 70 Contréglise 70170\n",
      "Haute-Saône 70 Corbenay 70171\n",
      "Haute-Saône 70 Corcelles 70173\n",
      "Haute-Saône 70 Cordonnet 70174\n",
      "Haute-Saône 70 Corre 70177\n",
      "Haute-Saône 70 La Côte 70178\n",
      "Haute-Saône 70 Courtesoult-et-Gatey 70183\n",
      "Haute-Saône 70 Couthenans 70184\n",
      "Haute-Saône 70 Cresancey 70185\n",
      "Haute-Saône 70 Cubry-lès-Soing 70191\n",
      "Haute-Saône 70 Cuve 70194\n",
      "Haute-Saône 70 Dampierre-sur-Salon 70198\n",
      "Haute-Saône 70 La Demie 70203\n",
      "Haute-Saône 70 Denèvre 70204\n",
      "Haute-Saône 70 Échavanne 70205\n",
      "Haute-Saône 70 Échenoz-le-Sec 70208\n",
      "Haute-Saône 70 Écuelle 70211\n",
      "Haute-Saône 70 Étuz 70224\n",
      "Haute-Saône 70 Faucogney-et-la-Mer 70227\n",
      "Haute-Saône 70 Fondremand 70239\n",
      "Haute-Saône 70 Fontaine-lès-Luxeuil 70240\n"
     ]
    }
   ],
   "source": [
    "LocalSession = sessionmaker(bind=engine)\n",
    "session = LocalSession()\n",
    "\n",
    "query = session.query(CityMap).limit(40).all()\n",
    "for res in query:\n",
    "    print(res.dep_name, res.dep_code, res.com_name, res.com_code,)\n",
    "\n",
    "session.close()"
   ],
   "metadata": {
    "collapsed": false,
    "ExecuteTime": {
     "end_time": "2024-02-16T15:25:23.727310263Z",
     "start_time": "2024-02-16T15:25:23.723296659Z"
    }
   },
   "id": "7030724dd61d29a5",
   "execution_count": 10
  },
  {
   "cell_type": "code",
   "outputs": [],
   "source": [],
   "metadata": {
    "collapsed": false
   },
   "id": "e8929e1c3e422a9"
  }
 ],
 "metadata": {
  "kernelspec": {
   "display_name": "Python 3",
   "language": "python",
   "name": "python3"
  },
  "language_info": {
   "codemirror_mode": {
    "name": "ipython",
    "version": 2
   },
   "file_extension": ".py",
   "mimetype": "text/x-python",
   "name": "python",
   "nbconvert_exporter": "python",
   "pygments_lexer": "ipython2",
   "version": "2.7.6"
  }
 },
 "nbformat": 4,
 "nbformat_minor": 5
}
