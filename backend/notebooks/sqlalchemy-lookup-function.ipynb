{
 "cells": [
  {
   "cell_type": "code",
   "execution_count": 33,
   "id": "initial_id",
   "metadata": {
    "collapsed": true,
    "ExecuteTime": {
     "end_time": "2024-02-16T15:44:54.401802859Z",
     "start_time": "2024-02-16T15:44:54.353959974Z"
    }
   },
   "outputs": [],
   "source": [
    "from  backend.settings.env import config\n",
    "from sqlalchemy import create_engine, Column, BigInteger, String, Integer, cast\n",
    "from sqlalchemy.orm import sessionmaker, DeclarativeBase, Session"
   ]
  },
  {
   "cell_type": "code",
   "outputs": [
    {
     "data": {
      "text/plain": "True"
     },
     "execution_count": 2,
     "metadata": {},
     "output_type": "execute_result"
    }
   ],
   "source": [
    "DATABASE_URL = config(\"DATABASE_URL\", cast=str, default=None)\n",
    "DATABASE_URL is not None"
   ],
   "metadata": {
    "collapsed": false,
    "ExecuteTime": {
     "end_time": "2024-02-16T15:32:42.514260786Z",
     "start_time": "2024-02-16T15:32:42.512025537Z"
    }
   },
   "id": "ad41246abea9a87a",
   "execution_count": 2
  },
  {
   "cell_type": "code",
   "outputs": [],
   "source": [
    "engine = create_engine(DATABASE_URL)"
   ],
   "metadata": {
    "collapsed": false,
    "ExecuteTime": {
     "end_time": "2024-02-16T15:32:49.419599954Z",
     "start_time": "2024-02-16T15:32:49.392238198Z"
    }
   },
   "id": "271261e3846bd183",
   "execution_count": 3
  },
  {
   "cell_type": "code",
   "outputs": [],
   "source": [
    "class Base(DeclarativeBase):\n",
    "    pass"
   ],
   "metadata": {
    "collapsed": false,
    "ExecuteTime": {
     "end_time": "2024-02-16T15:32:57.278361371Z",
     "start_time": "2024-02-16T15:32:57.273927153Z"
    }
   },
   "id": "a2ae1feea89c19bb",
   "execution_count": 4
  },
  {
   "cell_type": "code",
   "outputs": [
    {
     "name": "stderr",
     "output_type": "stream",
     "text": [
      "/tmp/ipykernel_63453/2031467336.py:1: SAWarning: This declarative base already contains a class with the same class name and module name as __main__.CityMap, and will be replaced in the string-lookup table.\n",
      "  class CityMap(Base):\n"
     ]
    }
   ],
   "source": [
    "class CityMap(Base):\n",
    "    __tablename__ = \"cities_data\"\n",
    "    __table_args__ = {\"extend_existing\": True}\n",
    "    \n",
    "    id = Column(\"index\", BigInteger, primary_key=True)\n",
    "    dep_name = Column(\"DEP_NOM\", String)\n",
    "    dep_code = Column(\"DEP_CODE\", String)\n",
    "    com_name = Column(\"COM_NOM\", String)\n",
    "    com_code = Column(\"COM_CODE\", BigInteger)"
   ],
   "metadata": {
    "collapsed": false,
    "ExecuteTime": {
     "end_time": "2024-02-16T15:56:29.444424903Z",
     "start_time": "2024-02-16T15:56:29.439984774Z"
    }
   },
   "id": "62420c3ca0f8e5ec",
   "execution_count": 78
  },
  {
   "cell_type": "code",
   "outputs": [],
   "source": [],
   "metadata": {
    "collapsed": false
   },
   "id": "2308e083d90dd9da"
  },
  {
   "cell_type": "code",
   "outputs": [],
   "source": [
    "def get_dep(session:Session, dep_code:str, limit:int= 20):\n",
    "    return session.query(CityMap).filter(CityMap.dep_code == dep_code).limit(limit).all()"
   ],
   "metadata": {
    "collapsed": false,
    "ExecuteTime": {
     "end_time": "2024-02-16T15:58:55.137727352Z",
     "start_time": "2024-02-16T15:58:55.094220459Z"
    }
   },
   "id": "3b33c6c0be5d1457",
   "execution_count": 84
  },
  {
   "cell_type": "code",
   "outputs": [],
   "source": [
    "def get_deps(session:Session, offset:int = 0, limit:int = 100):\n",
    "    return session.query(CityMap).offset(offset).limit(limit).all()"
   ],
   "metadata": {
    "collapsed": false,
    "ExecuteTime": {
     "end_time": "2024-02-16T15:56:31.423169350Z",
     "start_time": "2024-02-16T15:56:31.419429512Z"
    }
   },
   "id": "e89d143489390ff4",
   "execution_count": 80
  },
  {
   "cell_type": "code",
   "outputs": [],
   "source": [],
   "metadata": {
    "collapsed": false,
    "ExecuteTime": {
     "end_time": "2024-02-16T15:56:31.585454824Z",
     "start_time": "2024-02-16T15:56:31.580895238Z"
    }
   },
   "id": "df97d1a83b200219",
   "execution_count": 80
  },
  {
   "cell_type": "code",
   "outputs": [
    {
     "name": "stdout",
     "output_type": "stream",
     "text": [
      "['Savoie', 'Savoie', 'Savoie', 'Savoie', 'Savoie', 'Savoie', 'Savoie', 'Savoie', 'Savoie', 'Savoie', 'Savoie', 'Savoie', 'Savoie', 'Savoie', 'Savoie', 'Savoie', 'Savoie', 'Savoie', 'Savoie', 'Savoie', 'Savoie', 'Savoie', 'Savoie', 'Savoie', 'Savoie', 'Savoie', 'Savoie', 'Savoie', 'Savoie', 'Savoie', 'Savoie', 'Savoie', 'Savoie', 'Savoie', 'Savoie', 'Savoie', 'Savoie', 'Savoie', 'Savoie', 'Savoie', 'Savoie', 'Savoie', 'Savoie', 'Savoie', 'Savoie', 'Savoie', 'Savoie', 'Savoie', 'Savoie', 'Haute-Savoie', 'Haute-Savoie', 'Haute-Savoie', 'Haute-Savoie', 'Haute-Savoie', 'Haute-Savoie', 'Haute-Savoie', 'Haute-Savoie', 'Haute-Savoie', 'Haute-Savoie', 'Haute-Savoie', 'Haute-Savoie', 'Haute-Savoie', 'Haute-Savoie', 'Haute-Savoie', 'Haute-Savoie', 'Haute-Savoie', 'Haute-Savoie', 'Haute-Savoie', 'Haute-Savoie', 'Haute-Savoie', 'Haute-Savoie', 'Haute-Savoie', 'Haute-Savoie', 'Haute-Savoie', 'Haute-Savoie', 'Haute-Savoie', 'Haute-Savoie', 'Haute-Savoie', 'Haute-Savoie', 'Haute-Savoie', 'Haute-Savoie', 'Haute-Savoie', 'Haute-Savoie', 'Haute-Savoie', 'Haute-Savoie', 'Haute-Savoie', 'Haute-Savoie', 'Haute-Savoie', 'Haute-Savoie', 'Haute-Savoie', 'Haute-Savoie', 'Haute-Savoie', 'Haute-Savoie', 'Haute-Savoie', 'Haute-Savoie', 'Haute-Savoie', 'Haute-Savoie', 'Haute-Savoie', 'Haute-Savoie', 'Haute-Savoie']\n"
     ]
    }
   ],
   "source": [
    "LocalSession = sessionmaker(bind=engine)\n",
    "session = LocalSession()\n",
    "\n",
    "deps = get_deps(session, offset=300)\n",
    "print([x.dep_name for x in deps])\n",
    "session.close()"
   ],
   "metadata": {
    "collapsed": false,
    "ExecuteTime": {
     "end_time": "2024-02-16T15:56:31.852310845Z",
     "start_time": "2024-02-16T15:56:31.848050786Z"
    }
   },
   "id": "b2cb4cab61616a1b",
   "execution_count": 81
  },
  {
   "cell_type": "code",
   "outputs": [
    {
     "name": "stdout",
     "output_type": "stream",
     "text": [
      "['Aiguebelle', 'Albertville', 'Allondaz', 'Avrieux', 'Barby', 'La Bâthie', 'Bellecombe', 'Bessans', 'La Biolle', 'Bissy', 'Bourget-en-Huile', 'Bramans', 'Champagneux', 'Chanaz', 'Cognin', 'Coise-Saint-Jean-Pied-Gauthier', 'Conjux', 'Corbel', \"La Côte-d'Aime\", 'Doucy']\n"
     ]
    }
   ],
   "source": [
    "session = LocalSession()\n",
    "\n",
    "dep = get_dep(session, dep_code='73')\n",
    "print([x.com_name for x in dep])\n",
    "session.close()"
   ],
   "metadata": {
    "collapsed": false,
    "ExecuteTime": {
     "end_time": "2024-02-16T16:02:23.573905965Z",
     "start_time": "2024-02-16T16:02:23.526178367Z"
    }
   },
   "id": "fb133a7be3413adc",
   "execution_count": 87
  },
  {
   "cell_type": "code",
   "outputs": [],
   "source": [],
   "metadata": {
    "collapsed": false
   },
   "id": "a81992e8be6b37f4"
  }
 ],
 "metadata": {
  "kernelspec": {
   "display_name": "Python 3",
   "language": "python",
   "name": "python3"
  },
  "language_info": {
   "codemirror_mode": {
    "name": "ipython",
    "version": 2
   },
   "file_extension": ".py",
   "mimetype": "text/x-python",
   "name": "python",
   "nbconvert_exporter": "python",
   "pygments_lexer": "ipython2",
   "version": "2.7.6"
  }
 },
 "nbformat": 4,
 "nbformat_minor": 5
}
